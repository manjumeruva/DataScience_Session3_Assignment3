{
 "cells": [
  {
   "cell_type": "markdown",
   "metadata": {},
   "source": [
    "## Task-1 # Question - 1"
   ]
  },
  {
   "cell_type": "code",
   "execution_count": 1,
   "metadata": {},
   "outputs": [
    {
     "name": "stdout",
     "output_type": "stream",
     "text": [
      "enter a number: 5\n",
      "float division by zero\n"
     ]
    }
   ],
   "source": [
    "# Write a function to compute 5/0 and use try/catch to catch the exceptions\n",
    "\n",
    "def division():\n",
    "    try:\n",
    "        user_input = float(input(\"enter a number: \")) #To input the numerical value\n",
    "        output = user_input/0\n",
    "        print(\"The result is : \",output)\n",
    "    except (ValueError,ZeroDivisionError) as e:\n",
    "        print(e) #To print the error message\n",
    "        \n",
    "#Calling the function\n",
    "division()"
   ]
  },
  {
   "cell_type": "markdown",
   "metadata": {},
   "source": [
    "## Task-1 # Question - 2"
   ]
  },
  {
   "cell_type": "code",
   "execution_count": 2,
   "metadata": {},
   "outputs": [
    {
     "name": "stdout",
     "output_type": "stream",
     "text": [
      "Americans play Baseball\n",
      "Americans play Cricket\n",
      "Americans watch Baseball\n",
      "Americans watch Cricket\n",
      "Indians play Baseball\n",
      "Indians play Cricket\n",
      "Indians watch Baseball\n",
      "Indians watch Cricket\n"
     ]
    }
   ],
   "source": [
    "#Generate sentences based on given data\n",
    "\n",
    "def gen_sentences(sub,verb,obj):\n",
    "    for i in range(len(sub)):\n",
    "        for j in range(len(verb)):\n",
    "            for k in range(len(obj)):\n",
    "                output = sub[i]+\" \"+verb[j]+\" \"+obj[k]\n",
    "                print(output)\n",
    "    \n",
    "list_of_subjects = [\"Americans\",\"Indians\"]\n",
    "list_of_verbs = [\"play\",\"watch\"]\n",
    "list_of_objects = [\"Baseball\",\"Cricket\"]\n",
    "\n",
    "#Function which generates the sentences\n",
    "gen_sentences(list_of_subjects,list_of_verbs,list_of_objects)"
   ]
  },
  {
   "cell_type": "markdown",
   "metadata": {},
   "source": [
    "## Task-2 # Question - 1"
   ]
  },
  {
   "cell_type": "code",
   "execution_count": 4,
   "metadata": {},
   "outputs": [
    {
     "name": "stdout",
     "output_type": "stream",
     "text": [
      "If increasing is false, the vandermonde matrix is : \n",
      " [[ 1  1  1  1]\n",
      " [ 8  4  2  1]\n",
      " [27  9  3  1]\n",
      " [64 16  4  1]]\n",
      "--------------------------------------------------\n",
      "If increasing is true, the vandermonde matrix is : \n",
      " [[ 1  1  1  1]\n",
      " [ 1  2  4  8]\n",
      " [ 1  3  9 27]\n",
      " [ 1  4 16 64]]\n"
     ]
    }
   ],
   "source": [
    "# To generate alexandre-theophile vandermonde matrix with geometric progression\n",
    "\n",
    "import numpy as np\n",
    "num_lst = [1,2,3,4]                # 'num_lst' : The input vector list\n",
    "x = np.array(num_lst)              # 'x'       : The converted list to array\n",
    "N = 4                              # 'N'       : The no.of columns in the output matrix\n",
    "\n",
    "#If increasing is False, the output colums will be x**(N-1), x**(N-2).... x**0\n",
    "vander_mtrx_false = np.vander(x,N,increasing=False)\n",
    "print(\"If increasing is false, the vandermonde matrix is : \\n\", vander_mtrx_false)\n",
    "\n",
    "print('-'*50)\n",
    "\n",
    "#If increasing is True, the output colums will be x**0, x**1....x**(N-1)  .Reverse of false matrix.\n",
    "vander_mtrx_true = np.vander(x,N,increasing=True)\n",
    "print(\"If increasing is true, the vandermonde matrix is : \\n\", vander_mtrx_true)\n"
   ]
  }
 ],
 "metadata": {
  "kernelspec": {
   "display_name": "Python 3",
   "language": "python",
   "name": "python3"
  },
  "language_info": {
   "codemirror_mode": {
    "name": "ipython",
    "version": 3
   },
   "file_extension": ".py",
   "mimetype": "text/x-python",
   "name": "python",
   "nbconvert_exporter": "python",
   "pygments_lexer": "ipython3",
   "version": "3.6.5"
  }
 },
 "nbformat": 4,
 "nbformat_minor": 2
}
